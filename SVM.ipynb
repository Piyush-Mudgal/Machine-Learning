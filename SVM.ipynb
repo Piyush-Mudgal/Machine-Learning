{
  "nbformat": 4,
  "nbformat_minor": 0,
  "metadata": {
    "colab": {
      "name": "SVM.ipynb",
      "provenance": []
    },
    "kernelspec": {
      "name": "python3",
      "display_name": "Python 3"
    },
    "language_info": {
      "name": "python"
    }
  },
  "cells": [
    {
      "cell_type": "code",
      "execution_count": 44,
      "metadata": {
        "id": "pzxm1uZ3DjB3"
      },
      "outputs": [],
      "source": [
        "from sklearn.svm import SVC \n",
        "from sklearn.model_selection import train_test_split \n",
        "from sklearn.preprocessing import StandardScaler\n",
        "import pandas as pd\n",
        "from sklearn.metrics import plot_confusion_matrix\n",
        "import matplotlib.pyplot as plt"
      ]
    },
    {
      "cell_type": "code",
      "source": [
        "dataset=pd.read_csv('artificial characters.csv')\n",
        "dataset.head()"
      ],
      "metadata": {
        "colab": {
          "base_uri": "https://localhost:8080/",
          "height": 206
        },
        "id": "gvHyeQzCFCUg",
        "outputId": "ef15b2c8-76f7-44cb-c528-5dfcc17841c5"
      },
      "execution_count": 45,
      "outputs": [
        {
          "output_type": "execute_result",
          "data": {
            "text/html": [
              "\n",
              "  <div id=\"df-2807a177-535d-42c9-be69-dc141722d50c\">\n",
              "    <div class=\"colab-df-container\">\n",
              "      <div>\n",
              "<style scoped>\n",
              "    .dataframe tbody tr th:only-of-type {\n",
              "        vertical-align: middle;\n",
              "    }\n",
              "\n",
              "    .dataframe tbody tr th {\n",
              "        vertical-align: top;\n",
              "    }\n",
              "\n",
              "    .dataframe thead th {\n",
              "        text-align: right;\n",
              "    }\n",
              "</style>\n",
              "<table border=\"1\" class=\"dataframe\">\n",
              "  <thead>\n",
              "    <tr style=\"text-align: right;\">\n",
              "      <th></th>\n",
              "      <th>V1</th>\n",
              "      <th>V2</th>\n",
              "      <th>V3</th>\n",
              "      <th>V4</th>\n",
              "      <th>V5</th>\n",
              "      <th>V6</th>\n",
              "      <th>V7</th>\n",
              "      <th>Class</th>\n",
              "    </tr>\n",
              "  </thead>\n",
              "  <tbody>\n",
              "    <tr>\n",
              "      <th>0</th>\n",
              "      <td>0</td>\n",
              "      <td>0</td>\n",
              "      <td>0</td>\n",
              "      <td>0</td>\n",
              "      <td>20</td>\n",
              "      <td>20.00</td>\n",
              "      <td>46.1</td>\n",
              "      <td>1</td>\n",
              "    </tr>\n",
              "    <tr>\n",
              "      <th>1</th>\n",
              "      <td>1</td>\n",
              "      <td>19</td>\n",
              "      <td>0</td>\n",
              "      <td>19</td>\n",
              "      <td>8</td>\n",
              "      <td>8.00</td>\n",
              "      <td>46.1</td>\n",
              "      <td>1</td>\n",
              "    </tr>\n",
              "    <tr>\n",
              "      <th>2</th>\n",
              "      <td>2</td>\n",
              "      <td>0</td>\n",
              "      <td>20</td>\n",
              "      <td>19</td>\n",
              "      <td>8</td>\n",
              "      <td>22.47</td>\n",
              "      <td>46.1</td>\n",
              "      <td>1</td>\n",
              "    </tr>\n",
              "    <tr>\n",
              "      <th>3</th>\n",
              "      <td>3</td>\n",
              "      <td>0</td>\n",
              "      <td>20</td>\n",
              "      <td>8</td>\n",
              "      <td>42</td>\n",
              "      <td>23.41</td>\n",
              "      <td>46.1</td>\n",
              "      <td>1</td>\n",
              "    </tr>\n",
              "    <tr>\n",
              "      <th>4</th>\n",
              "      <td>4</td>\n",
              "      <td>19</td>\n",
              "      <td>8</td>\n",
              "      <td>8</td>\n",
              "      <td>42</td>\n",
              "      <td>35.74</td>\n",
              "      <td>46.1</td>\n",
              "      <td>1</td>\n",
              "    </tr>\n",
              "  </tbody>\n",
              "</table>\n",
              "</div>\n",
              "      <button class=\"colab-df-convert\" onclick=\"convertToInteractive('df-2807a177-535d-42c9-be69-dc141722d50c')\"\n",
              "              title=\"Convert this dataframe to an interactive table.\"\n",
              "              style=\"display:none;\">\n",
              "        \n",
              "  <svg xmlns=\"http://www.w3.org/2000/svg\" height=\"24px\"viewBox=\"0 0 24 24\"\n",
              "       width=\"24px\">\n",
              "    <path d=\"M0 0h24v24H0V0z\" fill=\"none\"/>\n",
              "    <path d=\"M18.56 5.44l.94 2.06.94-2.06 2.06-.94-2.06-.94-.94-2.06-.94 2.06-2.06.94zm-11 1L8.5 8.5l.94-2.06 2.06-.94-2.06-.94L8.5 2.5l-.94 2.06-2.06.94zm10 10l.94 2.06.94-2.06 2.06-.94-2.06-.94-.94-2.06-.94 2.06-2.06.94z\"/><path d=\"M17.41 7.96l-1.37-1.37c-.4-.4-.92-.59-1.43-.59-.52 0-1.04.2-1.43.59L10.3 9.45l-7.72 7.72c-.78.78-.78 2.05 0 2.83L4 21.41c.39.39.9.59 1.41.59.51 0 1.02-.2 1.41-.59l7.78-7.78 2.81-2.81c.8-.78.8-2.07 0-2.86zM5.41 20L4 18.59l7.72-7.72 1.47 1.35L5.41 20z\"/>\n",
              "  </svg>\n",
              "      </button>\n",
              "      \n",
              "  <style>\n",
              "    .colab-df-container {\n",
              "      display:flex;\n",
              "      flex-wrap:wrap;\n",
              "      gap: 12px;\n",
              "    }\n",
              "\n",
              "    .colab-df-convert {\n",
              "      background-color: #E8F0FE;\n",
              "      border: none;\n",
              "      border-radius: 50%;\n",
              "      cursor: pointer;\n",
              "      display: none;\n",
              "      fill: #1967D2;\n",
              "      height: 32px;\n",
              "      padding: 0 0 0 0;\n",
              "      width: 32px;\n",
              "    }\n",
              "\n",
              "    .colab-df-convert:hover {\n",
              "      background-color: #E2EBFA;\n",
              "      box-shadow: 0px 1px 2px rgba(60, 64, 67, 0.3), 0px 1px 3px 1px rgba(60, 64, 67, 0.15);\n",
              "      fill: #174EA6;\n",
              "    }\n",
              "\n",
              "    [theme=dark] .colab-df-convert {\n",
              "      background-color: #3B4455;\n",
              "      fill: #D2E3FC;\n",
              "    }\n",
              "\n",
              "    [theme=dark] .colab-df-convert:hover {\n",
              "      background-color: #434B5C;\n",
              "      box-shadow: 0px 1px 3px 1px rgba(0, 0, 0, 0.15);\n",
              "      filter: drop-shadow(0px 1px 2px rgba(0, 0, 0, 0.3));\n",
              "      fill: #FFFFFF;\n",
              "    }\n",
              "  </style>\n",
              "\n",
              "      <script>\n",
              "        const buttonEl =\n",
              "          document.querySelector('#df-2807a177-535d-42c9-be69-dc141722d50c button.colab-df-convert');\n",
              "        buttonEl.style.display =\n",
              "          google.colab.kernel.accessAllowed ? 'block' : 'none';\n",
              "\n",
              "        async function convertToInteractive(key) {\n",
              "          const element = document.querySelector('#df-2807a177-535d-42c9-be69-dc141722d50c');\n",
              "          const dataTable =\n",
              "            await google.colab.kernel.invokeFunction('convertToInteractive',\n",
              "                                                     [key], {});\n",
              "          if (!dataTable) return;\n",
              "\n",
              "          const docLinkHtml = 'Like what you see? Visit the ' +\n",
              "            '<a target=\"_blank\" href=https://colab.research.google.com/notebooks/data_table.ipynb>data table notebook</a>'\n",
              "            + ' to learn more about interactive tables.';\n",
              "          element.innerHTML = '';\n",
              "          dataTable['output_type'] = 'display_data';\n",
              "          await google.colab.output.renderOutput(dataTable, element);\n",
              "          const docLink = document.createElement('div');\n",
              "          docLink.innerHTML = docLinkHtml;\n",
              "          element.appendChild(docLink);\n",
              "        }\n",
              "      </script>\n",
              "    </div>\n",
              "  </div>\n",
              "  "
            ],
            "text/plain": [
              "   V1  V2  V3  V4  V5     V6    V7  Class\n",
              "0   0   0   0   0  20  20.00  46.1      1\n",
              "1   1  19   0  19   8   8.00  46.1      1\n",
              "2   2   0  20  19   8  22.47  46.1      1\n",
              "3   3   0  20   8  42  23.41  46.1      1\n",
              "4   4  19   8   8  42  35.74  46.1      1"
            ]
          },
          "metadata": {},
          "execution_count": 45
        }
      ]
    },
    {
      "cell_type": "code",
      "source": [
        "dataset.describe()"
      ],
      "metadata": {
        "colab": {
          "base_uri": "https://localhost:8080/",
          "height": 300
        },
        "id": "-i47IeTsFfz1",
        "outputId": "4afb2810-de93-4bd8-de14-a8cefba1ccfc"
      },
      "execution_count": 46,
      "outputs": [
        {
          "output_type": "execute_result",
          "data": {
            "text/html": [
              "\n",
              "  <div id=\"df-bb240996-4762-4aaa-9a5a-6132213cc691\">\n",
              "    <div class=\"colab-df-container\">\n",
              "      <div>\n",
              "<style scoped>\n",
              "    .dataframe tbody tr th:only-of-type {\n",
              "        vertical-align: middle;\n",
              "    }\n",
              "\n",
              "    .dataframe tbody tr th {\n",
              "        vertical-align: top;\n",
              "    }\n",
              "\n",
              "    .dataframe thead th {\n",
              "        text-align: right;\n",
              "    }\n",
              "</style>\n",
              "<table border=\"1\" class=\"dataframe\">\n",
              "  <thead>\n",
              "    <tr style=\"text-align: right;\">\n",
              "      <th></th>\n",
              "      <th>V1</th>\n",
              "      <th>V2</th>\n",
              "      <th>V3</th>\n",
              "      <th>V4</th>\n",
              "      <th>V5</th>\n",
              "      <th>V6</th>\n",
              "      <th>V7</th>\n",
              "      <th>Class</th>\n",
              "    </tr>\n",
              "  </thead>\n",
              "  <tbody>\n",
              "    <tr>\n",
              "      <th>count</th>\n",
              "      <td>10218.000000</td>\n",
              "      <td>10218.000000</td>\n",
              "      <td>10218.000000</td>\n",
              "      <td>10218.000000</td>\n",
              "      <td>10218.000000</td>\n",
              "      <td>10218.000000</td>\n",
              "      <td>10218.000000</td>\n",
              "      <td>10218.000000</td>\n",
              "    </tr>\n",
              "    <tr>\n",
              "      <th>mean</th>\n",
              "      <td>2.222744</td>\n",
              "      <td>6.061460</td>\n",
              "      <td>15.246036</td>\n",
              "      <td>9.341554</td>\n",
              "      <td>21.029360</td>\n",
              "      <td>15.377823</td>\n",
              "      <td>40.463523</td>\n",
              "      <td>5.116853</td>\n",
              "    </tr>\n",
              "    <tr>\n",
              "      <th>std</th>\n",
              "      <td>1.719632</td>\n",
              "      <td>8.881774</td>\n",
              "      <td>14.178974</td>\n",
              "      <td>9.730991</td>\n",
              "      <td>13.100119</td>\n",
              "      <td>7.795728</td>\n",
              "      <td>11.124438</td>\n",
              "      <td>2.836073</td>\n",
              "    </tr>\n",
              "    <tr>\n",
              "      <th>min</th>\n",
              "      <td>0.000000</td>\n",
              "      <td>0.000000</td>\n",
              "      <td>0.000000</td>\n",
              "      <td>0.000000</td>\n",
              "      <td>-2.000000</td>\n",
              "      <td>1.000000</td>\n",
              "      <td>13.890000</td>\n",
              "      <td>1.000000</td>\n",
              "    </tr>\n",
              "    <tr>\n",
              "      <th>25%</th>\n",
              "      <td>1.000000</td>\n",
              "      <td>0.000000</td>\n",
              "      <td>0.000000</td>\n",
              "      <td>0.000000</td>\n",
              "      <td>10.000000</td>\n",
              "      <td>9.000000</td>\n",
              "      <td>32.570000</td>\n",
              "      <td>3.000000</td>\n",
              "    </tr>\n",
              "    <tr>\n",
              "      <th>50%</th>\n",
              "      <td>2.000000</td>\n",
              "      <td>0.000000</td>\n",
              "      <td>13.000000</td>\n",
              "      <td>7.000000</td>\n",
              "      <td>20.000000</td>\n",
              "      <td>14.000000</td>\n",
              "      <td>40.220000</td>\n",
              "      <td>5.000000</td>\n",
              "    </tr>\n",
              "    <tr>\n",
              "      <th>75%</th>\n",
              "      <td>3.000000</td>\n",
              "      <td>12.000000</td>\n",
              "      <td>24.000000</td>\n",
              "      <td>17.000000</td>\n",
              "      <td>30.000000</td>\n",
              "      <td>20.620000</td>\n",
              "      <td>48.100000</td>\n",
              "      <td>8.000000</td>\n",
              "    </tr>\n",
              "    <tr>\n",
              "      <th>max</th>\n",
              "      <td>7.000000</td>\n",
              "      <td>48.000000</td>\n",
              "      <td>63.000000</td>\n",
              "      <td>50.000000</td>\n",
              "      <td>63.000000</td>\n",
              "      <td>50.700000</td>\n",
              "      <td>76.220000</td>\n",
              "      <td>10.000000</td>\n",
              "    </tr>\n",
              "  </tbody>\n",
              "</table>\n",
              "</div>\n",
              "      <button class=\"colab-df-convert\" onclick=\"convertToInteractive('df-bb240996-4762-4aaa-9a5a-6132213cc691')\"\n",
              "              title=\"Convert this dataframe to an interactive table.\"\n",
              "              style=\"display:none;\">\n",
              "        \n",
              "  <svg xmlns=\"http://www.w3.org/2000/svg\" height=\"24px\"viewBox=\"0 0 24 24\"\n",
              "       width=\"24px\">\n",
              "    <path d=\"M0 0h24v24H0V0z\" fill=\"none\"/>\n",
              "    <path d=\"M18.56 5.44l.94 2.06.94-2.06 2.06-.94-2.06-.94-.94-2.06-.94 2.06-2.06.94zm-11 1L8.5 8.5l.94-2.06 2.06-.94-2.06-.94L8.5 2.5l-.94 2.06-2.06.94zm10 10l.94 2.06.94-2.06 2.06-.94-2.06-.94-.94-2.06-.94 2.06-2.06.94z\"/><path d=\"M17.41 7.96l-1.37-1.37c-.4-.4-.92-.59-1.43-.59-.52 0-1.04.2-1.43.59L10.3 9.45l-7.72 7.72c-.78.78-.78 2.05 0 2.83L4 21.41c.39.39.9.59 1.41.59.51 0 1.02-.2 1.41-.59l7.78-7.78 2.81-2.81c.8-.78.8-2.07 0-2.86zM5.41 20L4 18.59l7.72-7.72 1.47 1.35L5.41 20z\"/>\n",
              "  </svg>\n",
              "      </button>\n",
              "      \n",
              "  <style>\n",
              "    .colab-df-container {\n",
              "      display:flex;\n",
              "      flex-wrap:wrap;\n",
              "      gap: 12px;\n",
              "    }\n",
              "\n",
              "    .colab-df-convert {\n",
              "      background-color: #E8F0FE;\n",
              "      border: none;\n",
              "      border-radius: 50%;\n",
              "      cursor: pointer;\n",
              "      display: none;\n",
              "      fill: #1967D2;\n",
              "      height: 32px;\n",
              "      padding: 0 0 0 0;\n",
              "      width: 32px;\n",
              "    }\n",
              "\n",
              "    .colab-df-convert:hover {\n",
              "      background-color: #E2EBFA;\n",
              "      box-shadow: 0px 1px 2px rgba(60, 64, 67, 0.3), 0px 1px 3px 1px rgba(60, 64, 67, 0.15);\n",
              "      fill: #174EA6;\n",
              "    }\n",
              "\n",
              "    [theme=dark] .colab-df-convert {\n",
              "      background-color: #3B4455;\n",
              "      fill: #D2E3FC;\n",
              "    }\n",
              "\n",
              "    [theme=dark] .colab-df-convert:hover {\n",
              "      background-color: #434B5C;\n",
              "      box-shadow: 0px 1px 3px 1px rgba(0, 0, 0, 0.15);\n",
              "      filter: drop-shadow(0px 1px 2px rgba(0, 0, 0, 0.3));\n",
              "      fill: #FFFFFF;\n",
              "    }\n",
              "  </style>\n",
              "\n",
              "      <script>\n",
              "        const buttonEl =\n",
              "          document.querySelector('#df-bb240996-4762-4aaa-9a5a-6132213cc691 button.colab-df-convert');\n",
              "        buttonEl.style.display =\n",
              "          google.colab.kernel.accessAllowed ? 'block' : 'none';\n",
              "\n",
              "        async function convertToInteractive(key) {\n",
              "          const element = document.querySelector('#df-bb240996-4762-4aaa-9a5a-6132213cc691');\n",
              "          const dataTable =\n",
              "            await google.colab.kernel.invokeFunction('convertToInteractive',\n",
              "                                                     [key], {});\n",
              "          if (!dataTable) return;\n",
              "\n",
              "          const docLinkHtml = 'Like what you see? Visit the ' +\n",
              "            '<a target=\"_blank\" href=https://colab.research.google.com/notebooks/data_table.ipynb>data table notebook</a>'\n",
              "            + ' to learn more about interactive tables.';\n",
              "          element.innerHTML = '';\n",
              "          dataTable['output_type'] = 'display_data';\n",
              "          await google.colab.output.renderOutput(dataTable, element);\n",
              "          const docLink = document.createElement('div');\n",
              "          docLink.innerHTML = docLinkHtml;\n",
              "          element.appendChild(docLink);\n",
              "        }\n",
              "      </script>\n",
              "    </div>\n",
              "  </div>\n",
              "  "
            ],
            "text/plain": [
              "                 V1            V2            V3            V4            V5  \\\n",
              "count  10218.000000  10218.000000  10218.000000  10218.000000  10218.000000   \n",
              "mean       2.222744      6.061460     15.246036      9.341554     21.029360   \n",
              "std        1.719632      8.881774     14.178974      9.730991     13.100119   \n",
              "min        0.000000      0.000000      0.000000      0.000000     -2.000000   \n",
              "25%        1.000000      0.000000      0.000000      0.000000     10.000000   \n",
              "50%        2.000000      0.000000     13.000000      7.000000     20.000000   \n",
              "75%        3.000000     12.000000     24.000000     17.000000     30.000000   \n",
              "max        7.000000     48.000000     63.000000     50.000000     63.000000   \n",
              "\n",
              "                 V6            V7         Class  \n",
              "count  10218.000000  10218.000000  10218.000000  \n",
              "mean      15.377823     40.463523      5.116853  \n",
              "std        7.795728     11.124438      2.836073  \n",
              "min        1.000000     13.890000      1.000000  \n",
              "25%        9.000000     32.570000      3.000000  \n",
              "50%       14.000000     40.220000      5.000000  \n",
              "75%       20.620000     48.100000      8.000000  \n",
              "max       50.700000     76.220000     10.000000  "
            ]
          },
          "metadata": {},
          "execution_count": 46
        }
      ]
    },
    {
      "cell_type": "code",
      "source": [
        "X = dataset.drop(columns='Class', axis=1)\n",
        "Y=dataset['Class']"
      ],
      "metadata": {
        "id": "1UXW5IuPFwAx"
      },
      "execution_count": 47,
      "outputs": []
    },
    {
      "cell_type": "code",
      "source": [
        "X_train, X_test, y_train, y_test = train_test_split(X,Y,random_state=1, test_size=0.2)\n",
        "sc_X = StandardScaler()\n",
        "X_trainscaled=sc_X.fit_transform(X_train)\n",
        "X_testscaled=sc_X.transform(X_test)"
      ],
      "metadata": {
        "id": "dOH9CrpCGIa2"
      },
      "execution_count": 48,
      "outputs": []
    },
    {
      "cell_type": "code",
      "source": [
        "clf1 = SVC(kernel='linear').fit(X_trainscaled, y_train)\n",
        "y_pred=clf1.predict(X_testscaled)\n",
        "print(clf1.score(X_testscaled, y_test))"
      ],
      "metadata": {
        "colab": {
          "base_uri": "https://localhost:8080/"
        },
        "id": "pmdtihPjGLWj",
        "outputId": "1e120252-f5ec-4f11-a765-12960ddde514"
      },
      "execution_count": 49,
      "outputs": [
        {
          "output_type": "stream",
          "name": "stdout",
          "text": [
            "0.4349315068493151\n"
          ]
        }
      ]
    },
    {
      "cell_type": "code",
      "source": [
        "fig=plot_confusion_matrix(clf1, X_testscaled, y_test,display_labels=[1,2,3,4,5,6,7,8,9,10])\n",
        "fig.figure_.suptitle(\"Confusion Matrix for Artificial Character Dataset\")\n",
        "plt.show()"
      ],
      "metadata": {
        "colab": {
          "base_uri": "https://localhost:8080/",
          "height": 363
        },
        "id": "4Ua2I2IYQnYj",
        "outputId": "369dd5a9-6050-46c3-f964-c42d6822a380"
      },
      "execution_count": 50,
      "outputs": [
        {
          "output_type": "stream",
          "name": "stderr",
          "text": [
            "/usr/local/lib/python3.7/dist-packages/sklearn/utils/deprecation.py:87: FutureWarning: Function plot_confusion_matrix is deprecated; Function `plot_confusion_matrix` is deprecated in 1.0 and will be removed in 1.2. Use one of the class methods: ConfusionMatrixDisplay.from_predictions or ConfusionMatrixDisplay.from_estimator.\n",
            "  warnings.warn(msg, category=FutureWarning)\n"
          ]
        },
        {
          "output_type": "display_data",
          "data": {
            "image/png": "[encoded data removed]",
            "text/plain": [
              "<Figure size 432x288 with 2 Axes>"
            ]
          },
          "metadata": {
            "needs_background": "light"
          }
        }
      ]
    },
    {
      "cell_type": "code",
      "source": [
        "clf2 = SVC(kernel='poly', degree=3).fit(X_trainscaled, y_train)\n",
        "y_pred=clf2.predict(X_testscaled)\n",
        "print(clf2.score(X_testscaled, y_test))"
      ],
      "metadata": {
        "colab": {
          "base_uri": "https://localhost:8080/"
        },
        "id": "F2s7wRFCGsCA",
        "outputId": "e846fec6-d631-434f-c093-c1bc402f1b86"
      },
      "execution_count": 51,
      "outputs": [
        {
          "output_type": "stream",
          "name": "stdout",
          "text": [
            "0.5787671232876712\n"
          ]
        }
      ]
    },
    {
      "cell_type": "code",
      "source": [
        "clf3 = SVC(kernel='poly', degree=5).fit(X_trainscaled, y_train)\n",
        "y_pred=clf3.predict(X_testscaled)\n",
        "print(clf3.score(X_testscaled, y_test))"
      ],
      "metadata": {
        "colab": {
          "base_uri": "https://localhost:8080/"
        },
        "id": "5fxy8LxpIL5w",
        "outputId": "14fb66c0-bce2-4603-da17-88150f7feed1"
      },
      "execution_count": 52,
      "outputs": [
        {
          "output_type": "stream",
          "name": "stdout",
          "text": [
            "0.5313111545988258\n"
          ]
        }
      ]
    },
    {
      "cell_type": "code",
      "source": [
        "clf4 = SVC(kernel='poly', degree=2).fit(X_trainscaled, y_train)\n",
        "y_pred=clf4.predict(X_testscaled)\n",
        "print(clf4.score(X_testscaled, y_test))"
      ],
      "metadata": {
        "colab": {
          "base_uri": "https://localhost:8080/"
        },
        "id": "pMZalHLkIOhR",
        "outputId": "18c855e7-d192-402d-dc26-1a3e4e8e785b"
      },
      "execution_count": 53,
      "outputs": [
        {
          "output_type": "stream",
          "name": "stdout",
          "text": [
            "0.5557729941291585\n"
          ]
        }
      ]
    },
    {
      "cell_type": "code",
      "source": [
        "clf5 = SVC(kernel='rbf',gamma='scale').fit(X_trainscaled, y_train)\n",
        "y_pred=clf5.predict(X_testscaled)\n",
        "print(clf5.score(X_testscaled, y_test))"
      ],
      "metadata": {
        "colab": {
          "base_uri": "https://localhost:8080/"
        },
        "id": "HJXSuyyFLLmq",
        "outputId": "511d2703-a045-45c4-e4f2-afd6f49d74ca"
      },
      "execution_count": 54,
      "outputs": [
        {
          "output_type": "stream",
          "name": "stdout",
          "text": [
            "0.6262230919765166\n"
          ]
        }
      ]
    },
    {
      "cell_type": "code",
      "source": [
        "clf6 = SVC(kernel='rbf', gamma='auto').fit(X_trainscaled, y_train)\n",
        "y_pred=clf6.predict(X_testscaled)\n",
        "print(clf6.score(X_testscaled, y_test))"
      ],
      "metadata": {
        "colab": {
          "base_uri": "https://localhost:8080/"
        },
        "id": "gvARhYq6LT7V",
        "outputId": "790ec114-9941-4ca1-875a-5120fd54c651"
      },
      "execution_count": 55,
      "outputs": [
        {
          "output_type": "stream",
          "name": "stdout",
          "text": [
            "0.6262230919765166\n"
          ]
        }
      ]
    },
    {
      "cell_type": "code",
      "source": [
        "clf7 = SVC(kernel='sigmoid').fit(X_trainscaled, y_train)\n",
        "y_pred=clf7.predict(X_testscaled)\n",
        "print(clf7.score(X_testscaled, y_test))"
      ],
      "metadata": {
        "colab": {
          "base_uri": "https://localhost:8080/"
        },
        "id": "1_Cb_EmKJZT_",
        "outputId": "1464865e-d5bc-41e5-935a-1cd039ca523f"
      },
      "execution_count": 56,
      "outputs": [
        {
          "output_type": "stream",
          "name": "stdout",
          "text": [
            "0.1834637964774951\n"
          ]
        }
      ]
    },
    {
      "cell_type": "code",
      "source": [
        "clf8 = SVC(C=5, kernel='rbf', gamma='auto').fit(X_trainscaled, y_train)\n",
        "y_pred=clf8.predict(X_testscaled)\n",
        "print(clf8.score(X_testscaled, y_test))"
      ],
      "metadata": {
        "colab": {
          "base_uri": "https://localhost:8080/"
        },
        "id": "ZnsbbR8nLV_y",
        "outputId": "cc5a44e6-10e3-461a-9814-dfd36a7ae4c0"
      },
      "execution_count": 57,
      "outputs": [
        {
          "output_type": "stream",
          "name": "stdout",
          "text": [
            "0.6545988258317026\n"
          ]
        }
      ]
    },
    {
      "cell_type": "code",
      "source": [
        "clf9 = SVC(C=10, kernel='rbf', gamma='auto').fit(X_trainscaled, y_train)\n",
        "y_pred=clf9.predict(X_testscaled)\n",
        "print(clf9.score(X_testscaled, y_test))"
      ],
      "metadata": {
        "colab": {
          "base_uri": "https://localhost:8080/"
        },
        "id": "Zu36lJmNMxKJ",
        "outputId": "7e129219-cf93-4b42-9b0d-58535b3887a9"
      },
      "execution_count": 58,
      "outputs": [
        {
          "output_type": "stream",
          "name": "stdout",
          "text": [
            "0.6643835616438356\n"
          ]
        }
      ]
    },
    {
      "cell_type": "code",
      "source": [
        "clf10 = SVC(C=30, kernel='rbf', gamma='auto').fit(X_trainscaled, y_train)\n",
        "y_pred=clf10.predict(X_testscaled)\n",
        "print(clf10.score(X_testscaled, y_test))"
      ],
      "metadata": {
        "colab": {
          "base_uri": "https://localhost:8080/"
        },
        "id": "V06yjnq-M5Fk",
        "outputId": "38fd0a0b-b02a-490f-ed74-8066036e6bef"
      },
      "execution_count": 59,
      "outputs": [
        {
          "output_type": "stream",
          "name": "stdout",
          "text": [
            "0.6805283757338552\n"
          ]
        }
      ]
    },
    {
      "cell_type": "code",
      "source": [
        "clf11 = SVC(C=100, kernel='rbf', gamma='auto').fit(X_trainscaled, y_train)\n",
        "y_pred=clf11.predict(X_testscaled)\n",
        "print(clf11.score(X_testscaled, y_test))"
      ],
      "metadata": {
        "colab": {
          "base_uri": "https://localhost:8080/"
        },
        "id": "v3eXwlOeM-k4",
        "outputId": "e01fec69-ef62-4e91-dfd1-0d9e5f587934"
      },
      "execution_count": 60,
      "outputs": [
        {
          "output_type": "stream",
          "name": "stdout",
          "text": [
            "0.6922700587084148\n"
          ]
        }
      ]
    },
    {
      "cell_type": "code",
      "source": [
        "fig=plot_confusion_matrix(clf11, X_testscaled, y_test,display_labels=[1,2,3,4,5,6,7,8,9,10])\n",
        "fig.figure_.suptitle(\"Confusion Matrix for Artificial Characters Dataset\")\n",
        "plt.show()"
      ],
      "metadata": {
        "colab": {
          "base_uri": "https://localhost:8080/",
          "height": 363
        },
        "id": "jOkJFBQjNJMN",
        "outputId": "12245c12-868f-4f69-ee70-2aa39e56b1b1"
      },
      "execution_count": 61,
      "outputs": [
        {
          "output_type": "stream",
          "name": "stderr",
          "text": [
            "/usr/local/lib/python3.7/dist-packages/sklearn/utils/deprecation.py:87: FutureWarning: Function plot_confusion_matrix is deprecated; Function `plot_confusion_matrix` is deprecated in 1.0 and will be removed in 1.2. Use one of the class methods: ConfusionMatrixDisplay.from_predictions or ConfusionMatrixDisplay.from_estimator.\n",
            "  warnings.warn(msg, category=FutureWarning)\n"
          ]
        },
        {
          "output_type": "display_data",
          "data": {
            "image/png": "[encoded data removed]",
            "text/plain": [
              "<Figure size 432x288 with 2 Axes>"
            ]
          },
          "metadata": {
            "needs_background": "light"
          }
        }
      ]
    }
  ]
}